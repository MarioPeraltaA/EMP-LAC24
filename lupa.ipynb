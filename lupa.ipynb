{
 "cells": [
  {
   "cell_type": "markdown",
   "metadata": {},
   "source": [
    "## `sandtool` module\n",
    "\n",
    "> This program reads and process input data from clicSAND interface, to convert into diferent input formats such as: `*.csv`, `*.xlsx` or datafile `*.txt`.\n",
    "\n",
    "\n",
    "Mario R. Peralta A.\n",
    "\n",
    "Mario.Peralta@ucr.ac.cr\n",
    "\n",
    "*The Electric Power and Energy Research Laboratory (EPERLab)*\n",
    "\n",
    "### Structure transformation\n",
    "Module that allows to integrate the input data of clicSAND structure interface in ``otoole`` so that more efficient solvers like ``cbc`` can be used.\n",
    "\n",
    "Run in command line\n",
    "\n",
    "```shell\n",
    "% otoole setup config config.yaml\n",
    "% otoole setup csv data_csv\n",
    "```\n",
    "\n",
    "Set range of years in file `YEAR.csv` in excel then in python same directory run:\n",
    "\n",
    "```Python\n",
    ">>> from sandtool import Sand_Interface \n",
    ">>> # Call clicSAND interface\n",
    ">>> sand_data = Sand_Interface(2015,\n",
    "...                            2070,\n",
    "...                            config_path=\"./config.yaml\")\n",
    ">>> input_sand = sand_data.set_input_data(\"./InputSand.xlsm\")\n",
    ">>> sand_data.write_sand_config_file()\n",
    "\n",
    "```"
   ]
  },
  {
   "cell_type": "code",
   "execution_count": 1,
   "metadata": {},
   "outputs": [],
   "source": [
    "from sandtool import Sand_Interface \n",
    "# Call clicSAND interface\n",
    "config_path = \"./Uruguay/Trunk/config.yaml\"\n",
    "sand_xlsx = \"./Uruguay/Trunk/InputSand.xlsm\"\n",
    "\n",
    "sand_data = Sand_Interface(2015,\n",
    "                           2070,\n",
    "                           config_path=config_path)\n",
    "input_sand = sand_data.set_input_data(sand_xlsx)\n",
    "sand_data.write_sand_config_file()\n"
   ]
  },
  {
   "cell_type": "markdown",
   "metadata": {},
   "source": [
    "Create empty excel template by running in command line:\n",
    "\n",
    "```shell\n",
    "% otoole convert csv excel data_csv sandtool.xlsx sand_config.yaml\n",
    "```"
   ]
  },
  {
   "cell_type": "markdown",
   "metadata": {},
   "source": [
    "### Populate data\n",
    "\n",
    "```Python\n",
    ">>> from sandtool import Otoole_Interface\n",
    ">>> # Call otoole interface\n",
    ">>> otoole_data = Otoole_Interface(\n",
    "...     input_otoole_path=\"./sandtool.xlsx\",\n",
    "...     config_sand_path=\"./sand_config.yaml\"\n",
    "... )\n",
    ">>> input_otoole = otoole_data.populate_template(sand_data)\n",
    ">>> _ = otoole_data.write_otoole_data(input_otoole)\n",
    "```"
   ]
  },
  {
   "cell_type": "code",
   "execution_count": 2,
   "metadata": {},
   "outputs": [],
   "source": [
    "from sandtool import Otoole_Interface\n",
    "# Call otoole interface\n",
    "xlsx_path = \"./Uruguay/Trunk/sandtool.xlsx\"\n",
    "config_path = \"./Uruguay/Trunk/sand_config.yaml\"\n",
    "otoole_data = Otoole_Interface(\n",
    "    input_otoole_path=xlsx_path,\n",
    "    config_sand_path=config_path\n",
    ")\n",
    "input_otoole = otoole_data.populate_template(sand_data)\n",
    "_ = otoole_data.write_otoole_data(input_otoole)\n"
   ]
  },
  {
   "cell_type": "markdown",
   "metadata": {},
   "source": [
    "Clean up undefined variables and fields (sets & technologies) they depend on.\n",
    "\n",
    "Now convert excel data into MathProg data:\n",
    "```shell\n",
    "% otoole convert excel datafile sandtool.xlsx sandtool.txt sand_config.yaml\n",
    "```\n",
    "#### Process a solution from GLPK\n",
    "Build model and save it as `sandtool_model.glp`, in same command, solve it whose solution it is saved as `sandtool_sol.sol`. After problem is solved in a new command-line generate directory `results-glpk/` with results in csv extention.\n",
    "\n",
    "```shell\n",
    "% glpsol -m OSeMOSYS.txt -d sandtool.txt --wglp sandtool_model.glp --write sandtool_sol.sol\n",
    "\n",
    "% otoole results glpk csv sandtool_sol.sol results-glpk datafile sandtool.txt sand_config.yaml --glpk_model sandtool_model.glp\n",
    "```\n",
    "\n",
    "*Note*: Make sure to have `OSeMOSYS.txt` file in the same directory.\n",
    "\n",
    "#### Process a solution from CBC\n",
    "Finally process a solution: Build model and solve it with cbc using `otoole` command-line interface. And finally write a directory `results_csv/` with the results converted into ***.csv** extension based on the excel structure (input).\n",
    "\n",
    "\n",
    "```shell\n",
    "% glpsol -m OSeMOSYS.txt -d sandtool.txt --wlp sandtool_model.lp --check\n",
    "\n",
    "% cbc sandtool_model.lp solve -solu sandtool_sol.sol\n",
    "\n",
    "% otoole results cbc csv sandtool_sol.sol results_csv excel sandtool.xlsx sand_config.yaml\n",
    "```\n",
    "#### Visualise RES\n",
    "\n",
    "To visualise use the excel file, `sandtool.xlsx` to generate the RES as `*.pdf` named: *res.pdf*.\n",
    "\n",
    "```shell\n",
    "% otoole viz res excel sandtool.xlsx res.pdf sand_config.yaml\n",
    "```\n",
    "\n",
    "It reports the error:\n",
    "\n",
    "```shall\n",
    "KeyError: 'TechnologyToStorage'\n",
    "```"
   ]
  },
  {
   "cell_type": "markdown",
   "metadata": {},
   "source": [
    "## Some functionality of `sandTool`"
   ]
  },
  {
   "cell_type": "code",
   "execution_count": null,
   "metadata": {},
   "outputs": [],
   "source": [
    "import sandtool as stool\n",
    "\n",
    "sand_data = stool.Sand_Interface(2015, 2070)\n",
    "input_data = sand_data.set_input_data()\n"
   ]
  },
  {
   "cell_type": "markdown",
   "metadata": {},
   "source": [
    "Load `YAML` config file and filter parameters in `clicSAND` that does not depend on `YEAR` index [y]: **Time indipendent variables**"
   ]
  },
  {
   "cell_type": "code",
   "execution_count": null,
   "metadata": {},
   "outputs": [
    {
     "name": "stdout",
     "output_type": "stream",
     "text": [
      "['CapacityToActivityUnit', 'DepreciationMethod', 'DiscountRate', 'ModelPeriodEmissionLimit', 'ModelPeriodExogenousEmission', 'OperationalLife', 'TotalTechnologyModelPeriodActivityLowerLimit', 'TotalTechnologyModelPeriodActivityUpperLimit']\n"
     ]
    }
   ],
   "source": [
    "non_params_y = sand_data.index_independent_variable(\n",
    "    set_label=\"YEAR\"\n",
    ")\n",
    "\n",
    "print(non_params_y)"
   ]
  },
  {
   "cell_type": "markdown",
   "metadata": {},
   "source": [
    "Filter all fields but **result** type (due to input data only considers **set** and **param** types) that are in template `config.yaml` but not in `clicSAND` interface and eventually remove them:"
   ]
  },
  {
   "cell_type": "code",
   "execution_count": null,
   "metadata": {},
   "outputs": [
    {
     "name": "stdout",
     "output_type": "stream",
     "text": [
      "['Conversionlh', 'DaySplit', 'Conversionld', 'DaysInDayType', 'StorageLevelDayTypeFinish', 'StorageLevelDayTypeStart', 'Conversionls', 'DaysInDayType', 'StorageLevelDayTypeFinish', 'StorageLevelDayTypeStart', 'StorageLevelSeasonStart', 'CapitalCostStorage', 'Conversionld', 'Conversionlh', 'Conversionls', 'DAILYTIMEBRACKET', 'DaysInDayType', 'DaySplit', 'DAYTYPE', 'DiscountRateStorage', 'MinStorageCharge', 'OperationalLifeStorage', 'ResidualStorageCapacity', 'SEASON', 'StorageLevelStart', 'StorageMaxChargeRate', 'StorageMaxDischargeRate', 'TechnologyFromStorage', 'TechnologyToStorage']\n"
     ]
    }
   ],
   "source": [
    "rm_fields = sand_data.non_required_fields()\n",
    "print(rm_fields)"
   ]
  },
  {
   "cell_type": "markdown",
   "metadata": {},
   "source": [
    "Generate new config yaml file based on clicSAND interface variables:\n"
   ]
  },
  {
   "cell_type": "code",
   "execution_count": null,
   "metadata": {},
   "outputs": [],
   "source": [
    "sand_data.write_sand_config_file()"
   ]
  }
 ],
 "metadata": {
  "kernelspec": {
   "display_name": "Python 3 (ipykernel)",
   "language": "python",
   "name": "python3"
  },
  "language_info": {
   "codemirror_mode": {
    "name": "ipython",
    "version": 3
   },
   "file_extension": ".py",
   "mimetype": "text/x-python",
   "name": "python",
   "nbconvert_exporter": "python",
   "pygments_lexer": "ipython3",
   "version": "3.10.4"
  }
 },
 "nbformat": 4,
 "nbformat_minor": 2
}
