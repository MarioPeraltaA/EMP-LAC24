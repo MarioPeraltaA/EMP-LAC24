{
 "cells": [
  {
   "cell_type": "markdown",
   "metadata": {},
   "source": [
    "## `sandtool` module\n",
    "\n",
    "### Structure transformation\n",
    "Module that allows to integrate the input data of clicSAND structure interface in ``otoole`` so that more efficient solvers like ``cbc`` can be used.\n",
    "\n",
    "Run in command line\n",
    "\n",
    "```shell\n",
    "% otoole setup config config.yaml\n",
    "% otoole setup csv data_csv\n",
    "```\n",
    "\n",
    "Set range of years in file `YEAR.csv` in excel then in python same directory run:\n",
    "\n",
    "```Python\n",
    ">>> from sandtool import Sand_Interface\n",
    ">>> # Call clicSAND interface\n",
    ">>> sand_data = Sand_Interface(2015, 2070)\n",
    ">>> input_sand = sand_data.set_input_data()\n",
    ">>> sand_data.write_sand_config_file()\n",
    "```"
   ]
  },
  {
   "cell_type": "code",
   "execution_count": 3,
   "metadata": {},
   "outputs": [],
   "source": [
    "from sandtool import Sand_Interface\n",
    "\n",
    "# Call clicSAND interface\n",
    "sand_data = Sand_Interface(2015, 2070)\n",
    "input_sand = sand_data.set_input_data()\n",
    "sand_data.write_sand_config_file()\n"
   ]
  },
  {
   "cell_type": "markdown",
   "metadata": {},
   "source": [
    "Create empty excel template by running in command line:\n",
    "\n",
    "```shell\n",
    "% otoole convert csv excel data_csv sandtool.xlsx sand_config.yaml\n",
    "```"
   ]
  },
  {
   "cell_type": "markdown",
   "metadata": {},
   "source": [
    "### Populate data\n",
    "\n",
    "```Python\n",
    ">>> from sandtool import Otoole_Interface\n",
    ">>> # Call otoole interface\n",
    ">>> otoole_data = Otoole_Interface()\n",
    ">>> input_otoole = otoole_data.write_otoole_data(sand_data)\n",
    "```"
   ]
  },
  {
   "cell_type": "code",
   "execution_count": 4,
   "metadata": {},
   "outputs": [],
   "source": [
    "from sandtool import Otoole_Interface\n",
    "# Call otoole interface\n",
    "otoole_data = Otoole_Interface()\n",
    "input_otoole = otoole_data.write_otoole_data(sand_data)"
   ]
  },
  {
   "cell_type": "markdown",
   "metadata": {},
   "source": [
    "Now convert excel data into MathProg data:\n",
    "\n",
    "```shell\n",
    "% otoole convert excel datafile sandtool.xlsx sandtool.txt sand_config.yaml\n",
    "```\n",
    "Finally process a solution: Build model and solve it with cbc using `otoole` command-line interface. And finally write a directory `results/` with the results in ***.csv** extension.\n",
    "\n",
    "Make sure to have `OSeMOSYS.txt` file in the same directory:\n",
    "\n",
    "```shell\n",
    "% glpsol -m OSeMOSYS.txt -d sandtool.txt --wlp sandtool.lp --check\n",
    "```\n",
    "```shell\n",
    "% cbc sandtool.lp solve -solu sandtool.sol\n",
    "```\n",
    "```shell\n",
    "% otoole results cbc csv sandtool.sol results csv data sand_config.yaml\n",
    "```\n",
    "\n",
    "\n"
   ]
  },
  {
   "cell_type": "markdown",
   "metadata": {},
   "source": [
    "## Some functionality of `sandTool`"
   ]
  },
  {
   "cell_type": "code",
   "execution_count": 3,
   "metadata": {},
   "outputs": [],
   "source": [
    "import sandtool as stool\n",
    "\n",
    "sand_data = stool.Sand_Interface(2015, 2070)\n",
    "input_data = sand_data.set_input_data()\n"
   ]
  },
  {
   "cell_type": "markdown",
   "metadata": {},
   "source": [
    "Load `YAML` config file and filter parameters in `clicSAND` that does not depend on `YEAR` index [y]: **Time indipendent variables**"
   ]
  },
  {
   "cell_type": "code",
   "execution_count": 2,
   "metadata": {},
   "outputs": [
    {
     "name": "stdout",
     "output_type": "stream",
     "text": [
      "['CapacityToActivityUnit', 'DepreciationMethod', 'DiscountRate', 'ModelPeriodEmissionLimit', 'ModelPeriodExogenousEmission', 'OperationalLife', 'TotalTechnologyModelPeriodActivityLowerLimit', 'TotalTechnologyModelPeriodActivityUpperLimit']\n"
     ]
    }
   ],
   "source": [
    "non_params_y = sand_data.index_independent_variable(\n",
    "    set_index=\"YEAR\"\n",
    ")\n",
    "\n",
    "print(non_params_y)"
   ]
  },
  {
   "cell_type": "markdown",
   "metadata": {},
   "source": [
    "Filter all fields but **result** type (due to input data only considers **set** and **param** types) that are in template `config.yaml` but not in `clicSAND` interface and eventually remove them:"
   ]
  },
  {
   "cell_type": "code",
   "execution_count": 3,
   "metadata": {},
   "outputs": [
    {
     "name": "stdout",
     "output_type": "stream",
     "text": [
      "['Conversionlh', 'DaySplit', 'Conversionld', 'DaysInDayType', 'StorageLevelDayTypeFinish', 'StorageLevelDayTypeStart', 'Conversionls', 'DaysInDayType', 'StorageLevelDayTypeFinish', 'StorageLevelDayTypeStart', 'StorageLevelSeasonStart', 'CapitalCostStorage', 'Conversionld', 'Conversionlh', 'Conversionls', 'DAILYTIMEBRACKET', 'DaysInDayType', 'DaySplit', 'DAYTYPE', 'DiscountRateStorage', 'MinStorageCharge', 'OperationalLifeStorage', 'ResidualStorageCapacity', 'SEASON', 'StorageLevelStart', 'StorageMaxChargeRate', 'StorageMaxDischargeRate', 'TechnologyFromStorage', 'TechnologyToStorage']\n"
     ]
    }
   ],
   "source": [
    "rm_fields = sand_data.non_required_fields()\n",
    "print(rm_fields)"
   ]
  },
  {
   "cell_type": "markdown",
   "metadata": {},
   "source": [
    "Generate new config yaml file based on clicSAND interface variables:\n"
   ]
  },
  {
   "cell_type": "code",
   "execution_count": 4,
   "metadata": {},
   "outputs": [],
   "source": [
    "sand_data.write_sand_config_file()"
   ]
  }
 ],
 "metadata": {
  "kernelspec": {
   "display_name": "energysys",
   "language": "python",
   "name": "python3"
  },
  "language_info": {
   "codemirror_mode": {
    "name": "ipython",
    "version": 3
   },
   "file_extension": ".py",
   "mimetype": "text/x-python",
   "name": "python",
   "nbconvert_exporter": "python",
   "pygments_lexer": "ipython3",
   "version": "3.12.0"
  }
 },
 "nbformat": 4,
 "nbformat_minor": 2
}
